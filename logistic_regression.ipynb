{
 "cells": [
  {
   "cell_type": "markdown",
   "metadata": {},
   "source": [
    "# Logistic Regression from Scratch"
   ]
  },
  {
   "cell_type": "code",
   "execution_count": 1,
   "metadata": {},
   "outputs": [],
   "source": [
    "import numpy as np\n",
    "import pandas as pd\n",
    "import matplotlib.pyplot as plt\n",
    "%matplotlib inline"
   ]
  },
  {
   "cell_type": "markdown",
   "metadata": {},
   "source": [
    "# Logistic Regression\n",
    "\n",
    "ref: https://towardsdatascience.com/logistic-regression-from-scratch-69db4f587e17"
   ]
  },
  {
   "cell_type": "markdown",
   "metadata": {},
   "source": [
    "## Sigmoid Function\n",
    "\n",
    "$$\\sigma(x)=\\frac{1}{1+e^{-\\theta^{t}x}}$$\n",
    "$\\theta^{t}x$ is theta transpose x.  \n",
    "$\\theta^{t}x=\\theta_{0}+\\theta_{1}x_{1}+\\theta_{2}x_{2}+...$  \n",
    "Sigmoid function or logistic function is the hypothesis function for logistic regression."
   ]
  },
  {
   "cell_type": "code",
   "execution_count": 2,
   "metadata": {},
   "outputs": [
    {
     "data": {
      "image/png": "[encoded data removed]",
      "text/plain": [
       "<Figure size 432x288 with 2 Axes>"
      ]
     },
     "metadata": {
      "needs_background": "light"
     },
     "output_type": "display_data"
    }
   ],
   "source": [
    "a=np.linspace(-5,5)\n",
    "y1=[np.exp(x) for x in a]\n",
    "y2=[np.exp(-x) for x in a]\n",
    "sig=[1/(1+y) for y in y2]\n",
    "\n",
    "plt.subplot(1,2,1)\n",
    "plt.plot(a,y1,label=\"e^x\")\n",
    "plt.plot(a,y2,label=\"e^(-x)\")\n",
    "plt.legend()\n",
    "plt.title(\"Exponential Curve\")\n",
    "\n",
    "plt.subplot(1,2,2)\n",
    "plt.plot(a,sig)\n",
    "plt.title(\"Sigmoid Function\")\n",
    "plt.show()"
   ]
  },
  {
   "cell_type": "markdown",
   "metadata": {},
   "source": [
    "### Limits of Exponential\n",
    "$$\\lim_{x \\to -\\infty} e^{-x}=+\\infty$$\n",
    "$$\\lim_{x \\to 0} e^{-x}=1$$\n",
    "$$\\lim_{x \\to +\\infty} e^{-x}=0$$\n",
    "\n",
    "### Limits of Sigmoid\n",
    "$$\\lim_{x \\to -\\infty} \\sigma(x)=\\lim_{x \\to -\\infty} \\frac{1}{1+e^{-x}}=\\frac{1}{1+\\infty}=0$$\n",
    "\n",
    "$$\\lim_{x \\to 0} \\sigma(x)=\\lim_{x \\to 0} \\frac{1}{1+e^{-x}}=\\frac{1}{1+1}=0.5$$\n",
    "\n",
    "$$\\lim_{x \\to +\\infty} \\sigma(x)=\\lim_{x \\to +\\infty} \\frac{1}{1+e^{-x}}=\\frac{1}{1+0}=1$$\n",
    "\n",
    "So, sigmoid function always end up with the result between 0 and 1. It has squashing effect. "
   ]
  },
  {
   "cell_type": "markdown",
   "metadata": {},
   "source": [
    "## Cost Function\n",
    "\n",
    "$$\\hat{y}=\\frac{1}{1+e^{-z}}$$\n",
    "$z=x_{1}*w_{1}+..........+x_{n}*w_{n} $\n",
    "\n",
    "![Cost Function](https://www.geeksforgeeks.org/wp-content/ql-cache/quicklatex.com-cc75211ad9199ec33f790ca7d3ec43e1_l3.svg)\n",
    "This equation can be combined into one.\n",
    "![Combined Cost Function](https://miro.medium.com/max/700/1*h9idzK6YjMKKxfCl-Zq8eA.png)\n",
    "\n",
    "## Model Training\n",
    "\n",
    "1. Find derivative of cost functionwrt weight. (Derivative give dir and by how much should w should be changed to minimize loss.)\n",
    "2. Updating each weight according to derivative until the local minimum is found, i.e. model doesn’t improve anymore so we can stop.\n",
    "\n",
    "Final equation after Derivative: $$x_{i}.(\\hat{y}-y)$$  \n",
    "Then, use gradient descent to find local minimum."
   ]
  },
  {
   "cell_type": "code",
   "execution_count": 3,
   "metadata": {},
   "outputs": [
    {
     "data": {
      "text/html": [
       "<div>\n",
       "<style scoped>\n",
       "    .dataframe tbody tr th:only-of-type {\n",
       "        vertical-align: middle;\n",
       "    }\n",
       "\n",
       "    .dataframe tbody tr th {\n",
       "        vertical-align: top;\n",
       "    }\n",
       "\n",
       "    .dataframe thead th {\n",
       "        text-align: right;\n",
       "    }\n",
       "</style>\n",
       "<table border=\"1\" class=\"dataframe\">\n",
       "  <thead>\n",
       "    <tr style=\"text-align: right;\">\n",
       "      <th></th>\n",
       "      <th>SepalLength</th>\n",
       "      <th>SepalWidth</th>\n",
       "      <th>PetalLength</th>\n",
       "      <th>PetalWidth</th>\n",
       "      <th>Name</th>\n",
       "      <th>target</th>\n",
       "    </tr>\n",
       "  </thead>\n",
       "  <tbody>\n",
       "    <tr>\n",
       "      <th>0</th>\n",
       "      <td>5.1</td>\n",
       "      <td>3.5</td>\n",
       "      <td>1.4</td>\n",
       "      <td>0.2</td>\n",
       "      <td>Iris-setosa</td>\n",
       "      <td>0.0</td>\n",
       "    </tr>\n",
       "    <tr>\n",
       "      <th>1</th>\n",
       "      <td>4.9</td>\n",
       "      <td>3.0</td>\n",
       "      <td>1.4</td>\n",
       "      <td>0.2</td>\n",
       "      <td>Iris-setosa</td>\n",
       "      <td>0.0</td>\n",
       "    </tr>\n",
       "    <tr>\n",
       "      <th>2</th>\n",
       "      <td>4.7</td>\n",
       "      <td>3.2</td>\n",
       "      <td>1.3</td>\n",
       "      <td>0.2</td>\n",
       "      <td>Iris-setosa</td>\n",
       "      <td>0.0</td>\n",
       "    </tr>\n",
       "    <tr>\n",
       "      <th>3</th>\n",
       "      <td>4.6</td>\n",
       "      <td>3.1</td>\n",
       "      <td>1.5</td>\n",
       "      <td>0.2</td>\n",
       "      <td>Iris-setosa</td>\n",
       "      <td>0.0</td>\n",
       "    </tr>\n",
       "    <tr>\n",
       "      <th>4</th>\n",
       "      <td>5.0</td>\n",
       "      <td>3.6</td>\n",
       "      <td>1.4</td>\n",
       "      <td>0.2</td>\n",
       "      <td>Iris-setosa</td>\n",
       "      <td>0.0</td>\n",
       "    </tr>\n",
       "  </tbody>\n",
       "</table>\n",
       "</div>"
      ],
      "text/plain": [
       "   SepalLength  SepalWidth  PetalLength  PetalWidth         Name  target\n",
       "0          5.1         3.5          1.4         0.2  Iris-setosa     0.0\n",
       "1          4.9         3.0          1.4         0.2  Iris-setosa     0.0\n",
       "2          4.7         3.2          1.3         0.2  Iris-setosa     0.0\n",
       "3          4.6         3.1          1.5         0.2  Iris-setosa     0.0\n",
       "4          5.0         3.6          1.4         0.2  Iris-setosa     0.0"
      ]
     },
     "execution_count": 3,
     "metadata": {},
     "output_type": "execute_result"
    }
   ],
   "source": [
    "from sklearn.datasets import load_iris\n",
    "iris = pd.read_csv('iris.csv')\n",
    "iris['target']=iris['Name'].map({'Iris-setosa':0,'Iris-virginica':1})\n",
    "iris.dropna(axis=0,inplace=True)\n",
    "X=iris.iloc[:,0:4].values\n",
    "y=iris.iloc[:,5].values\n",
    "\n",
    "iris.head()"
   ]
  },
  {
   "cell_type": "code",
   "execution_count": 4,
   "metadata": {},
   "outputs": [],
   "source": [
    "pos = iris[iris['target']==1].count()\n",
    "neg = iris[iris['target']==0].count()"
   ]
  },
  {
   "cell_type": "code",
   "execution_count": 5,
   "metadata": {},
   "outputs": [
    {
     "name": "stderr",
     "output_type": "stream",
     "text": [
      "/root/anaconda3/lib/python3.7/site-packages/ipykernel_launcher.py:4: MatplotlibDeprecationWarning: Case-insensitive properties were deprecated in 3.3 and support will be removed two minor releases later\n",
      "  after removing the cwd from sys.path.\n"
     ]
    },
    {
     "data": {
      "image/png": "[encoded data removed]",
      "text/plain": [
       "<Figure size 432x288 with 1 Axes>"
      ]
     },
     "metadata": {
      "needs_background": "light"
     },
     "output_type": "display_data"
    }
   ],
   "source": [
    "fig,ax=plt.subplots()\n",
    "#ax.barh(['Iris-setosa','Iris-setosa'],[pos,neg],color='red')\n",
    "ax.barh(['Malignant','Benign'],[sum(y), len(y)-sum(y)], height=0.3,color='red')\n",
    "ax.set_title('Class Distribution', fontSize=15)\n",
    "plt.show()"
   ]
  },
  {
   "cell_type": "code",
   "execution_count": 6,
   "metadata": {},
   "outputs": [],
   "source": [
    "from numpy import log, dot, e\n",
    "from numpy.random import rand\n",
    "\n",
    "class LogisticRegression:\n",
    "    \n",
    "    def sigmoid(self, z): return 1 / (1 + e**(-z))\n",
    "    \n",
    "    def cost_function(self, X, y, weights):                 \n",
    "        z = dot(X, weights)\n",
    "        predict_1 = y * log(self.sigmoid(z))\n",
    "        predict_0 = (1 - y) * log(1 - self.sigmoid(z))\n",
    "        return -sum(predict_1 + predict_0) / len(X)\n",
    "    \n",
    "    def fit(self, X, y, epochs=25, lr=0.05):        \n",
    "        loss = []\n",
    "        weights = rand(X.shape[1])\n",
    "        N = len(X)\n",
    "                 \n",
    "        for _ in range(epochs):        \n",
    "            # Gradient Descent\n",
    "            y_hat = self.sigmoid(dot(X, weights))\n",
    "            weights -= lr * dot(X.T,  y_hat - y) / N            \n",
    "            # Saving Progress\n",
    "            loss.append(self.cost_function(X, y, weights)) \n",
    "        self.weights = weights\n",
    "        self.loss = loss\n",
    "    \n",
    "    def predict(self, X):        \n",
    "        # Predicting with sigmoid function\n",
    "        z = dot(X, self.weights)\n",
    "        # Returning binary result\n",
    "        return [1 if i > 0.5 else 0 for i in self.sigmoid(z)]"
   ]
  },
  {
   "cell_type": "code",
   "execution_count": 7,
   "metadata": {},
   "outputs": [
    {
     "data": {
      "text/plain": [
       "[0, 0, 1]"
      ]
     },
     "execution_count": 7,
     "metadata": {},
     "output_type": "execute_result"
    }
   ],
   "source": [
    "logreg = LogisticRegression()\n",
    "logreg.fit(X, y, epochs=500, lr=0.5)\n",
    "y_pred = logreg.predict([[5.1, 3.5, 1.4, 0.2],[4.9, 3. , 1.4, 0.2],[7.3, 2.9, 6.3, 1.8]])\n",
    "y_pred"
   ]
  },
  {
   "cell_type": "code",
   "execution_count": 10,
   "metadata": {},
   "outputs": [
    {
     "data": {
      "text/plain": [
       "0.028150987976691164"
      ]
     },
     "execution_count": 10,
     "metadata": {},
     "output_type": "execute_result"
    }
   ],
   "source": [
    "np.mean(logreg.loss)"
   ]
  },
  {
   "cell_type": "code",
   "execution_count": 11,
   "metadata": {},
   "outputs": [
    {
     "data": {
      "text/plain": [
       "array([-1.26529654, -1.47789651,  2.9143681 ,  1.86270658])"
      ]
     },
     "execution_count": 11,
     "metadata": {},
     "output_type": "execute_result"
    }
   ],
   "source": [
    "logreg.weights"
   ]
  },
  {
   "cell_type": "code",
   "execution_count": null,
   "metadata": {},
   "outputs": [],
   "source": []
  }
 ],
 "metadata": {
  "kernelspec": {
   "display_name": "Python 3",
   "language": "python",
   "name": "python3"
  },
  "language_info": {
   "codemirror_mode": {
    "name": "ipython",
    "version": 3
   },
   "file_extension": ".py",
   "mimetype": "text/x-python",
   "name": "python",
   "nbconvert_exporter": "python",
   "pygments_lexer": "ipython3",
   "version": "3.7.9"
  }
 },
 "nbformat": 4,
 "nbformat_minor": 4
}
